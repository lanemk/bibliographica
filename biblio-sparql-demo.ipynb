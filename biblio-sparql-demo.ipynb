{
 "cells": [
  {
   "cell_type": "markdown",
   "metadata": {},
   "source": [
    "Copyright - Michael Lane. 2022. All Rights Reserved."
   ]
  },
  {
   "cell_type": "markdown",
   "metadata": {},
   "source": [
    "### Using SPARQL to query data in an RDF graph\n",
    "\n",
    "The following queries ask for information regarding a collection of books, authors, CDs, bootlegs, videos, solo artists, and bands, and the relationships between them."
   ]
  },
  {
   "cell_type": "markdown",
   "metadata": {},
   "source": [
    "#### First, what's running in the background, i.e., config, system status..."
   ]
  },
  {
   "cell_type": "code",
   "execution_count": null,
   "metadata": {},
   "outputs": [],
   "source": [
    "%graph_notebook_version"
   ]
  },
  {
   "cell_type": "code",
   "execution_count": null,
   "metadata": {},
   "outputs": [],
   "source": [
    "%graph_notebook_config"
   ]
  },
  {
   "cell_type": "code",
   "execution_count": null,
   "metadata": {},
   "outputs": [],
   "source": [
    "%status"
   ]
  },
  {
   "cell_type": "markdown",
   "metadata": {},
   "source": [
    "#### Load data: Bulk Loader (optional)"
   ]
  },
  {
   "cell_type": "code",
   "execution_count": null,
   "metadata": {},
   "outputs": [],
   "source": [
    "%%load"
   ]
  },
  {
   "cell_type": "markdown",
   "metadata": {},
   "source": [
    "### Queries:\n",
    "\n",
    "1. Count total number of authors and books in the collection.\n",
    "2. List all authors and titles to their books.\n",
    "3. Count total number of authors in the catalog.\n",
    "4. List all the authors' names.\n",
    "5. Count the number of books in the collection.\n",
    "6. List all artists, their CDs and MusicBrainz URI.\n",
    "7. Count the number of CDs in the collection.\n",
    "8. Number of items per book title.\n",
    "9. All triples."
   ]
  },
  {
   "cell_type": "markdown",
   "metadata": {},
   "source": [
    "#### 1. Count total number of authors and books in the collection."
   ]
  },
  {
   "cell_type": "code",
   "execution_count": null,
   "metadata": {},
   "outputs": [],
   "source": [
    "%%sparql\n",
    " \n",
    "PREFIX dcterms: <http://purl.org/dc/terms/>\n",
    "PREFIX bibliographica: <http://www.connaissance.io/onto/biblio/bibliographica#>\n",
    "PREFIX schema: <http://schema.org/>\n",
    "\n",
    "SELECT (COUNT(?author) AS ?authors_count) (COUNT(?book) AS ?books_count)\n",
    "\n",
    "# FROM <books.ttl>\n",
    "# FROM <authors.ttl>\n",
    "\n",
    "# FROM <http://www.connaissance.io/onto/biblio/books.ttl>\n",
    "# FROM <http://www.connaissance.io/onto/biblio/authors.ttl>\n",
    "\n",
    "WHERE\n",
    "{ ?author a bibliographica:Author .\n",
    "  ?book dcterms:creator bibliographica:Author .\n",
    "}"
   ]
  },
  {
   "cell_type": "markdown",
   "metadata": {},
   "source": [
    "#### 2. List all authors and titles to their books."
   ]
  },
  {
   "cell_type": "code",
   "execution_count": null,
   "metadata": {},
   "outputs": [],
   "source": [
    "%%sparql\n",
    "\n",
    "PREFIX rdfs: <http://www.w3.org/2000/01/rdf-schema#>\n",
    "PREFIX dcterms: <http://purl.org/dc/terms/>\n",
    "\n",
    "SELECT DISTINCT ?author ?title\n",
    "\n",
    "# FROM <http://www.connaissance.io/onto/biblio/books.ttl>\n",
    "# FROM <http://www.connaissance.io/onto/biblio/authors.ttl>\n",
    "\n",
    "WHERE\n",
    "{ ?s dcterms:title ?title ;\n",
    "   dcterms:creator ?creator .\n",
    "?creator rdfs:label ?author\n",
    "} \n",
    "ORDER BY ?author"
   ]
  },
  {
   "cell_type": "markdown",
   "metadata": {},
   "source": [
    "#### 3. Count total number of authors in the catalog."
   ]
  },
  {
   "cell_type": "code",
   "execution_count": null,
   "metadata": {},
   "outputs": [],
   "source": [
    "%%sparql\n",
    " \n",
    "PREFIX dct: <http://purl.org/dc/terms/>\n",
    "PREFIX bibliographica: <http://www.connaissance.io/onto/biblio/bibliographica>\n",
    "PREFIX schema: <http://schema.org/>\n",
    "\n",
    "SELECT (COUNT(?author) AS ?authors_count)\n",
    "\n",
    "# FROM <http://www.connaissance.io/onto/biblio/authors.ttl>\n",
    "\n",
    "WHERE\n",
    "{ ?author a schema:Person .\n",
    "}"
   ]
  },
  {
   "cell_type": "markdown",
   "metadata": {},
   "source": [
    "#### 4. List all the authors' names."
   ]
  },
  {
   "cell_type": "code",
   "execution_count": null,
   "metadata": {},
   "outputs": [],
   "source": [
    "%%sparql\n",
    " \n",
    "PREFIX dct: <http://purl.org/dc/terms/>\n",
    "PREFIX foaf: <http://xmlns.com/foaf/0.1/>\n",
    "\n",
    "## SELECT DISTINCT ?author\n",
    "## FROM <http://www.connaissance.io/onto/biblio/books.ttl>\n",
    "## WHERE\n",
    "## { ?s dct:creator ?author . }\n",
    "\n",
    "SELECT DISTINCT ?name\n",
    "\n",
    "FROM <http://www.connaissance.io/onto/biblio/books.ttl>\n",
    "\n",
    "WHERE\n",
    "{ ?s dct:creator ?author . \n",
    "  ?author foaf:name ?name .\n",
    "}"
   ]
  },
  {
   "cell_type": "markdown",
   "metadata": {},
   "source": [
    "#### 5. Count the number of books in the collection."
   ]
  },
  {
   "cell_type": "code",
   "execution_count": null,
   "metadata": {},
   "outputs": [],
   "source": [
    "%%sparql\n",
    " \n",
    "PREFIX schema: <http://schema.org/>\n",
    "\n",
    "SELECT  (COUNT(?book) AS ?books_count)\n",
    "\n",
    "# FROM <http://www.connaissance.io/onto/biblio/books.ttl>\n",
    "\n",
    "WHERE\n",
    "{ \n",
    "  ?book a schema:Book  .\n",
    "}"
   ]
  },
  {
   "cell_type": "markdown",
   "metadata": {},
   "source": [
    "#### 6. List all artists, their CDs and MusicBrainz URI."
   ]
  },
  {
   "cell_type": "code",
   "execution_count": null,
   "metadata": {},
   "outputs": [],
   "source": [
    "%%sparql  \n",
    " \n",
    "PREFIX bibliographica: <http://www.connaissance.io/onto/biblio/bibliographica#>\n",
    "PREFIX SoloMusicArtist: <http://www.connaissance.io/onto/biblio/SoloMusicArtist#>\n",
    "PREFIX rdfs: <http://www.w3.org/2000/01/rdf-schema#>\n",
    "PREFIX dcterms: <http://purl.org/dc/terms/>\n",
    "PREFIX mo: <http://purl.org/ontology/mo/> \n",
    "\n",
    "SELECT ?name ?title ?url\n",
    "\n",
    "## FROM <http://www.connaissance.io/onto/biblio/CDs.ttl>\n",
    "\n",
    "WHERE\n",
    "{ \n",
    "  ?cd a mo:CD ;\n",
    "      bibliographica:byArtist ?artist ;\n",
    "      rdfs:label ?title ;\n",
    "      bibliographica:musicbrainzURI ?url.\n",
    "  ?artist rdfs:label ?name .\n",
    "\n",
    "}\n",
    "ORDER BY ?name "
   ]
  },
  {
   "cell_type": "markdown",
   "metadata": {},
   "source": [
    "#### 7. Count the number of CDs in the collection."
   ]
  },
  {
   "cell_type": "code",
   "execution_count": null,
   "metadata": {},
   "outputs": [],
   "source": [
    "%%sparql\n",
    " \n",
    "PREFIX schema: <http://schema.org/>\n",
    "PREFIX mo: <http://purl.org/ontology/mo/>\n",
    "\n",
    "SELECT  (COUNT(?cd) AS ?cd_count)\n",
    "\n",
    "## FROM <http://www.connaissance.io/onto/biblio/CDs.ttl>\n",
    "\n",
    "WHERE\n",
    "{ \n",
    "  ?cd a mo:CD  .\n",
    "}"
   ]
  },
  {
   "cell_type": "markdown",
   "metadata": {},
   "source": [
    "#### 8. Number of items per book title."
   ]
  },
  {
   "cell_type": "code",
   "execution_count": null,
   "metadata": {},
   "outputs": [],
   "source": [
    "%%sparql\n",
    "\n",
    "PREFIX schema: <http://schema.org/>\n",
    "PREFIX authors: <http://www.connaissance.io/onto/biblio/authors#>\n",
    "PREFIX rdfs: <http://www.w3.org/2000/01/rdf-schema#>\n",
    "PREFIX xsd: <http://www.w3.org/2001/XMLSchema#>\n",
    "PREFIX dcterms: <http://purl.org/dc/terms/>\n",
    "\n",
    "SELECT ?author ?title (count(*) as ?items) \n",
    "WHERE { ?x schema:author ?author ; dcterms:title ?title . }\n",
    "\n",
    "GROUP BY ?author ?title\n",
    "ORDER BY desc (?items)"
   ]
  },
  {
   "cell_type": "markdown",
   "metadata": {},
   "source": [
    "#### 9. All triples."
   ]
  },
  {
   "cell_type": "code",
   "execution_count": null,
   "metadata": {},
   "outputs": [],
   "source": [
    "%%sparql\n",
    "\n",
    "PREFIX rdfs: <http://www.w3.org/2000/01/rdf-schema#>\n",
    "PREFIX tonality: <http://purl.org/ontology/tonality/>\n",
    "PREFIX interval: <http://purl.org/ontology/tonality/interval/>\n",
    "\n",
    "SELECT ?s ?p ?o\n",
    "\n",
    "WHERE {\n",
    "    \n",
    "    ?s ?p ?o \n",
    "}"
   ]
  }
 ],
 "metadata": {
  "kernelspec": {
   "display_name": "Python 3",
   "language": "python",
   "name": "python3"
  },
  "language_info": {
   "codemirror_mode": {
    "name": "ipython",
    "version": 3
   },
   "file_extension": ".py",
   "mimetype": "text/x-python",
   "name": "python",
   "nbconvert_exporter": "python",
   "pygments_lexer": "ipython3",
   "version": "3.8.8"
  }
 },
 "nbformat": 4,
 "nbformat_minor": 2
}
