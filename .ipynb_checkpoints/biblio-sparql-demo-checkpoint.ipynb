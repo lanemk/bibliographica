{
 "cells": [
  {
   "cell_type": "markdown",
   "metadata": {},
   "source": [
    "Copyright - Michael Lane. 2022. All Rights Reserved."
   ]
  },
  {
   "cell_type": "markdown",
   "metadata": {},
   "source": [
    "### Using SPARQL to query RDF data in a chord-scale graph\n",
    "\n",
    "The following queries pose questions about chords, scales, and the relationships between them, in an RDF knowledge graph. The graph uses and extends the Chord and Tonality ontologies to represent several differentiated datasets."
   ]
  },
  {
   "cell_type": "markdown",
   "metadata": {},
   "source": [
    "#### First, what's running in the background, i.e., config, system status..."
   ]
  },
  {
   "cell_type": "code",
   "execution_count": null,
   "metadata": {},
   "outputs": [],
   "source": [
    "%graph_notebook_version"
   ]
  },
  {
   "cell_type": "code",
   "execution_count": null,
   "metadata": {},
   "outputs": [],
   "source": [
    "%graph_notebook_config"
   ]
  },
  {
   "cell_type": "code",
   "execution_count": null,
   "metadata": {},
   "outputs": [],
   "source": [
    "%status"
   ]
  },
  {
   "cell_type": "markdown",
   "metadata": {},
   "source": [
    "### Queries:"
   ]
  },
  {
   "cell_type": "markdown",
   "metadata": {},
   "source": [
    "#### 1. Count total number of authors and books in the collection."
   ]
  },
  {
   "cell_type": "code",
   "execution_count": null,
   "metadata": {},
   "outputs": [],
   "source": [
    "%%sparql\n",
    " \n",
    "PREFIX dcterms: <http://purl.org/dc/terms/>\n",
    "PREFIX bibliographica: <http://www.connaissance.io/onto/biblio/bibliographica#>\n",
    "PREFIX schema: <http://schema.org/>\n",
    "\n",
    "SELECT (COUNT(?author) AS ?authors_count) (COUNT(?book) AS ?books_count)\n",
    "\n",
    "# FROM <books.ttl>\n",
    "# FROM <authors.ttl>\n",
    "\n",
    "# FROM <http://www.connaissance.io/onto/biblio/books.ttl>\n",
    "# FROM <http://www.connaissance.io/onto/biblio/authors.ttl>\n",
    "\n",
    "WHERE\n",
    "{ ?author a bibliographica:Author .\n",
    "  ?book dcterms:creator bibliographica:Author .\n",
    "}"
   ]
  },
  {
   "cell_type": "markdown",
   "metadata": {},
   "source": [
    "#### 2. List all authors and titles to their books."
   ]
  },
  {
   "cell_type": "code",
   "execution_count": null,
   "metadata": {},
   "outputs": [],
   "source": [
    "%%sparql\n",
    "\n",
    "PREFIX rdfs: <http://www.w3.org/2000/01/rdf-schema#>\n",
    "PREFIX dcterms: <http://purl.org/dc/terms/>\n",
    "\n",
    "SELECT DISTINCT ?author ?title\n",
    "\n",
    "# FROM <http://www.connaissance.io/onto/biblio/books.ttl>\n",
    "# FROM <http://www.connaissance.io/onto/biblio/authors.ttl>\n",
    "\n",
    "WHERE\n",
    "{ ?s dcterms:title ?title ;\n",
    "   dcterms:creator ?creator .\n",
    "?creator rdfs:label ?author\n",
    "} \n",
    "ORDER BY ?author"
   ]
  },
  {
   "cell_type": "markdown",
   "metadata": {},
   "source": [
    "#### 3. Count total number of authors in the catalog."
   ]
  },
  {
   "cell_type": "code",
   "execution_count": null,
   "metadata": {},
   "outputs": [],
   "source": [
    "%%sparql\n",
    " \n",
    "PREFIX dct: <http://purl.org/dc/terms/>\n",
    "PREFIX bibliographica: <http://www.connaissance.io/onto/biblio/bibliographica>\n",
    "PREFIX schema: <http://schema.org/>\n",
    "\n",
    "SELECT (COUNT(?author) AS ?authors_count)\n",
    "\n",
    "# FROM <http://www.connaissance.io/onto/biblio/authors.ttl>\n",
    "\n",
    "WHERE\n",
    "{ ?author a schema:Person .\n",
    "}"
   ]
  },
  {
   "cell_type": "markdown",
   "metadata": {},
   "source": [
    "#### 4. List all the authors' names."
   ]
  },
  {
   "cell_type": "code",
   "execution_count": null,
   "metadata": {},
   "outputs": [],
   "source": [
    "%%sparql\n",
    " \n",
    "PREFIX dct: <http://purl.org/dc/terms/>\n",
    "PREFIX foaf: <http://xmlns.com/foaf/0.1/>\n",
    "\n",
    "## SELECT DISTINCT ?author\n",
    "## FROM <http://www.connaissance.io/onto/biblio/books.ttl>\n",
    "## WHERE\n",
    "## { ?s dct:creator ?author . }\n",
    "\n",
    "SELECT DISTINCT ?name\n",
    "\n",
    "FROM <http://www.connaissance.io/onto/biblio/books.ttl>\n",
    "\n",
    "WHERE\n",
    "{ ?s dct:creator ?author . \n",
    "  ?author foaf:name ?name .\n",
    "}"
   ]
  },
  {
   "cell_type": "markdown",
   "metadata": {},
   "source": [
    "#### 5. Count the number of books in the collection."
   ]
  },
  {
   "cell_type": "code",
   "execution_count": null,
   "metadata": {},
   "outputs": [],
   "source": [
    "%%sparql\n",
    " \n",
    "PREFIX schema: <http://schema.org/>\n",
    "\n",
    "SELECT  (COUNT(?book) AS ?books_count)\n",
    "\n",
    "# FROM <http://www.connaissance.io/onto/biblio/books.ttl>\n",
    "\n",
    "WHERE\n",
    "{ \n",
    "  ?book a schema:Book  .\n",
    "}"
   ]
  },
  {
   "cell_type": "markdown",
   "metadata": {},
   "source": [
    "#### 6. List all artists, their CDs and MusicBrainz URI."
   ]
  },
  {
   "cell_type": "code",
   "execution_count": null,
   "metadata": {},
   "outputs": [],
   "source": [
    "%%sparql  \n",
    " \n",
    "PREFIX bibliographica: <http://www.connaissance.io/onto/biblio/bibliographica#>\n",
    "PREFIX SoloMusicArtist: <http://www.connaissance.io/onto/biblio/SoloMusicArtist#>\n",
    "PREFIX rdfs: <http://www.w3.org/2000/01/rdf-schema#>\n",
    "PREFIX dcterms: <http://purl.org/dc/terms/>\n",
    "PREFIX mo: <http://purl.org/ontology/mo/> \n",
    "\n",
    "SELECT ?name ?title ?url\n",
    "\n",
    "## FROM <http://www.connaissance.io/onto/biblio/CDs.ttl>\n",
    "\n",
    "WHERE\n",
    "{ \n",
    "  ?cd a mo:CD ;\n",
    "      bibliographica:byArtist ?artist ;\n",
    "      rdfs:label ?title ;\n",
    "      bibliographica:musicbrainzURI ?url.\n",
    "  ?artist rdfs:label ?name .\n",
    "\n",
    "}\n",
    "ORDER BY ?name "
   ]
  },
  {
   "cell_type": "markdown",
   "metadata": {},
   "source": [
    "#### 7. List all scales with intervals listed in query."
   ]
  },
  {
   "cell_type": "code",
   "execution_count": null,
   "metadata": {},
   "outputs": [],
   "source": [
    "%%sparql\n",
    "\n",
    "PREFIX rdfs: <http://www.w3.org/2000/01/rdf-schema#>\n",
    "PREFIX tonality: <http://purl.org/ontology/tonality/>\n",
    "PREFIX interval: <http://purl.org/ontology/tonality/interval/>\n",
    "\n",
    "SELECT ?scale_name ?uri\n",
    "\n",
    "WHERE {\n",
    "\n",
    " ?uri a tonality:Scale ; \n",
    "        tonality:interval interval:fifth_per, interval:fourth_aug, \n",
    "                 interval:octave, interval:second_maj, interval:seventh_min, \n",
    "                 interval:sixth_maj, interval:third_maj, interval:unison ; \n",
    "        rdfs:label ?scale_name .\n",
    "    \n",
    "}"
   ]
  },
  {
   "cell_type": "markdown",
   "metadata": {},
   "source": [
    "#### 8. List all scales, labels, from selected semitones; include optional scale number."
   ]
  },
  {
   "cell_type": "code",
   "execution_count": null,
   "metadata": {},
   "outputs": [],
   "source": [
    "%%sparql\n",
    "\n",
    "PREFIX tonality: <http://purl.org/ontology/tonality/>\n",
    "PREFIX rdfs: <http://www.w3.org/2000/01/rdf-schema#>\n",
    "PREFIX cs: <https://www.connaissance.io/cs/chordscale#>\n",
    "\n",
    "SELECT ?scale ?num ?label  \n",
    "\n",
    "WHERE { \n",
    "\n",
    "    ?scale a tonality:Scale .\n",
    "    ?scale rdfs:label ?label .\n",
    "    ?scale tonality:semitones 9 , 7 , 3 , 0 , 8 , 12 , 5 , 2   .\n",
    "\n",
    "  # Or, try replacing the semitones, or specify the type:\n",
    "    \n",
    "#   ?scale tonality:semitones  5 , 9 , 0 , 12 , 6 , 10 , 3 , 1 .\n",
    "    \n",
    "#   ?scale a cs:TraditionalScale ; rdfs:label ?label ;\n",
    "#          tonality:semitones  12 , 9 , 0 , 4 , 1 , 7 , 11 , 5 .\n",
    "\n",
    "    OPTIONAL { ?scale cs:scaleNumber ?num . }\n",
    "    \n",
    "}"
   ]
  },
  {
   "cell_type": "markdown",
   "metadata": {},
   "source": [
    "#### 9. All scales which are compatible with a minor 7th chord, from selected intervals.\n",
    "\n",
    "(There should be 282 scales with an embedded minor 7th chord.)"
   ]
  },
  {
   "cell_type": "code",
   "execution_count": null,
   "metadata": {},
   "outputs": [],
   "source": [
    "%%sparql\n",
    "\n",
    "PREFIX rdfs: <http://www.w3.org/2000/01/rdf-schema#>\n",
    "PREFIX tonality: <http://purl.org/ontology/tonality/>\n",
    "PREFIX interval: <http://purl.org/ontology/tonality/interval/>\n",
    "\n",
    "SELECT ?scale_name ?scale\n",
    "\n",
    "WHERE {\n",
    "    \n",
    "    ?scale a tonality:Scale ;\n",
    "            rdfs:label ?scale_name ;\n",
    "            tonality:interval interval:unison, interval:third_min, \n",
    "            interval:fifth_per, interval:seventh_min . \n",
    "}"
   ]
  },
  {
   "cell_type": "markdown",
   "metadata": {},
   "source": [
    "#### 10. List all intervals for specified chord resource, ordered in sequence through an RDF list.\n",
    "\n",
    "For different chords, change the SUBJECT resource to a desired chord; \n",
    "i.,e., dchords:major_7th_b5_second_inversion"
   ]
  },
  {
   "cell_type": "code",
   "execution_count": null,
   "metadata": {},
   "outputs": [],
   "source": [
    "%%sparql\n",
    "\n",
    "PREFIX dchords: <https://www.connaissance.io/cs/dchords#>\n",
    "PREFIX tonality: <http://purl.org/ontology/tonality/>\n",
    "PREFIX rdf: <http://www.w3.org/1999/02/22-rdf-syntax-ns#>\n",
    "PREFIX rdfs: <http://www.w3.org/2000/01/rdf-schema#>\n",
    "\n",
    "SELECT ?chord ?interval_label ?degree_symbol\n",
    "\n",
    "WHERE {\n",
    "    \n",
    "    dchords:minor_9th_root_position \n",
    "    tonality:interval/rdf:rest*/rdf:first ?interval ; rdfs:label ?chord .\n",
    "    ?interval tonality:degree_name ?degree_symbol ; rdfs:label ?interval_label .\n",
    "}"
   ]
  },
  {
   "cell_type": "markdown",
   "metadata": {},
   "source": [
    "#### 11. List intervals, and labels from semitones in a given scale."
   ]
  },
  {
   "cell_type": "code",
   "execution_count": null,
   "metadata": {},
   "outputs": [],
   "source": [
    "%%sparql\n",
    "\n",
    "PREFIX tonality: <http://purl.org/ontology/tonality/>\n",
    "PREFIX cs: <https://www.connaissance.io/cs/chordscale#>\n",
    "PREFIX rdfs: <http://www.w3.org/2000/01/rdf-schema#>\n",
    "\n",
    "SELECT DISTINCT ?interval ?label ?semitone \n",
    "       WHERE {\n",
    "                ?s cs:scaleNumber 4035 ; tonality:semitones ?semitone .\n",
    "                ?interval rdfs:label ?label . \n",
    "    MINUS {\n",
    "        ?interval rdfs:label \"diminished 5th\" .\n",
    "   }\n",
    "    MINUS {\n",
    "        ?interval rdfs:label \"augmented 4th\" .\n",
    "   }\n",
    "             {\n",
    "                SELECT ?interval ?semitone \n",
    "                    WHERE { \n",
    "                            ?interval a tonality:Interval ; \n",
    "                             tonality:semitones ?semitone .\n",
    "        } ORDER BY ?semitone  \n",
    "        } }"
   ]
  },
  {
   "cell_type": "markdown",
   "metadata": {},
   "source": [
    "####  12. List all scales, filter in only Traditional Scales."
   ]
  },
  {
   "cell_type": "code",
   "execution_count": null,
   "metadata": {},
   "outputs": [],
   "source": [
    "%%sparql\n",
    "\n",
    "PREFIX cs: <https://www.connaissance.io/cs/chordscale#>\n",
    "PREFIX tonality: <http://purl.org/ontology/tonality/>\n",
    "PREFIX rdfs: <http://www.w3.org/2000/01/rdf-schema#>\n",
    "\n",
    "SELECT ?scale_name ?resource \n",
    "\n",
    "WHERE { \n",
    "    \n",
    "    ?resource a tonality:Scale ; rdfs:label ?scale_name .\n",
    "\n",
    "    FILTER EXISTS { ?resource a cs:TraditionalScale }\n",
    "} "
   ]
  }
 ],
 "metadata": {
  "kernelspec": {
   "display_name": "Python 3",
   "language": "python",
   "name": "python3"
  },
  "language_info": {
   "codemirror_mode": {
    "name": "ipython",
    "version": 3
   },
   "file_extension": ".py",
   "mimetype": "text/x-python",
   "name": "python",
   "nbconvert_exporter": "python",
   "pygments_lexer": "ipython3",
   "version": "3.8.8"
  }
 },
 "nbformat": 4,
 "nbformat_minor": 2
}
